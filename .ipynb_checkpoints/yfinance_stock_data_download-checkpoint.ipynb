{
 "cells": [
  {
   "cell_type": "code",
   "execution_count": 4,
   "id": "597728d3-b677-4e51-8121-1a82cfdf95c1",
   "metadata": {
    "tags": []
   },
   "outputs": [],
   "source": [
    "import pandas as pd\n",
    "import yfinance as yf\n",
    "import json"
   ]
  },
  {
   "cell_type": "code",
   "execution_count": 5,
   "id": "9b8b4821-98e0-434c-96b7-2cef636e0356",
   "metadata": {
    "tags": []
   },
   "outputs": [],
   "source": [
    "stocks_names = [\n",
    "    'MSFT',\n",
    "    'AAPL',\n",
    "    'ORCL',\n",
    "    'AMZN',\n",
    "    'BRK-B',\n",
    "    'NVDA',\n",
    "    'INTC',\n",
    "    'AMD',\n",
    "    'TSLA',\n",
    "    'GOOG',\n",
    "    'META',\n",
    "    'JPM', # JPMorgan\n",
    "    'ADBE',\n",
    "    'QCOM',\n",
    "    'CRM', # Salesforce\n",
    "    'BLK', # Blackrock\n",
    "    'LLY',\n",
    "    'JNJ',\n",
    "    'PFE',\n",
    "    'ABBV',\n",
    "    'CSCO',\n",
    "    'TXN',\n",
    "    'BAC', # Bank of America\n",
    "    \n",
    "]\n",
    "\n",
    "data = pd.DataFrame()\n",
    "div_data = pd.DataFrame()\n",
    "info_data = pd.DataFrame()\n",
    "fin_data = pd.DataFrame()"
   ]
  },
  {
   "cell_type": "code",
   "execution_count": 6,
   "id": "e111f84d-f09b-479d-8a21-9681ece29702",
   "metadata": {
    "tags": []
   },
   "outputs": [],
   "source": [
    "def get_history(ticker, period='1y', interval='1d', start=None, end=None):\n",
    "    df = yf.Ticker(ticker).history(period=period, interval=interval, start=start, end=end).reset_index()\n",
    "    df['ticker'] = ticker\n",
    "    df.rename(columns={\n",
    "        'Date':'date', 'Open':'open', 'High':'high', 'Low':'low',\n",
    "        'Close':'close', 'Volume':'volume', \n",
    "    }, inplace=True)\n",
    "    df['date'] = pd.to_datetime(df['date'], errors='coerce').dt.date\n",
    "    df.drop(['Dividends','Stock Splits'],axis=1, inplace=True)\n",
    "    return df\n",
    "\n",
    "def get_dividents(ticker):\n",
    "    df = yf.Ticker(ticker).get_dividends().reset_index().rename(columns={'Date':'date', 'Dividends':'dividends'})\n",
    "    df['date'] = pd.to_datetime(df['date'], errors='coerce').dt.date\n",
    "    df['ticker'] = ticker\n",
    "    return df\n",
    "\n",
    "def get_info(ticker):\n",
    "    return pd.DataFrame.from_dict({'info':  [json.dumps(yf.Ticker(ticker).info)], 'ticker': [ticker]})\n",
    "    \n",
    "def get_balance_sheet(ticker):\n",
    "    df = yf.Ticker(ticker).balance_sheet.T.reset_index().rename(columns={'index':'date'})\n",
    "    df.columns = df.columns.str.replace(' ', '_').str.lower()\n",
    "    df['ticker'] = ticker\n",
    "    return df"
   ]
  },
  {
   "cell_type": "code",
   "execution_count": 7,
   "id": "f83cfc1c-7f85-4910-b5da-51ce875b15dc",
   "metadata": {},
   "outputs": [],
   "source": [
    "for stock in stocks_names:\n",
    "    fin_data = pd.concat([fin_data, get_balance_sheet(stock)])"
   ]
  },
  {
   "cell_type": "code",
   "execution_count": 8,
   "id": "bd81b37b-f9ec-47d2-82d3-18266e6cd2c5",
   "metadata": {},
   "outputs": [],
   "source": [
    "data.to_csv('stg_stock_history.csv', index=False, encoding='utf8')"
   ]
  },
  {
   "cell_type": "code",
   "execution_count": 9,
   "id": "be79aae9-9025-457f-9db6-e97306d4c965",
   "metadata": {},
   "outputs": [],
   "source": [
    "div_data.to_csv('stg_stock_dividends_history.csv', index=False, encoding='utf8')"
   ]
  },
  {
   "cell_type": "code",
   "execution_count": 10,
   "id": "c3288b08-d9ea-4dc0-825c-bf35ebe13476",
   "metadata": {},
   "outputs": [],
   "source": [
    "info_data.to_csv('stg_stock_info.csv', index=False, encoding='utf8')"
   ]
  },
  {
   "cell_type": "code",
   "execution_count": 11,
   "id": "c631c9b3-360c-4bf5-8c4a-4aca2bcc5210",
   "metadata": {},
   "outputs": [],
   "source": [
    "fin_data.to_csv('stg_stock_balance_sheet.csv', index=False, encoding='utf8')"
   ]
  },
  {
   "cell_type": "code",
   "execution_count": null,
   "id": "72321b1b-7b9d-493c-87d7-8c47a7a33e21",
   "metadata": {},
   "outputs": [],
   "source": []
  }
 ],
 "metadata": {
  "kernelspec": {
   "display_name": "Python 3 (ipykernel)",
   "language": "python",
   "name": "python3"
  },
  "language_info": {
   "codemirror_mode": {
    "name": "ipython",
    "version": 3
   },
   "file_extension": ".py",
   "mimetype": "text/x-python",
   "name": "python",
   "nbconvert_exporter": "python",
   "pygments_lexer": "ipython3",
   "version": "3.11.5"
  }
 },
 "nbformat": 4,
 "nbformat_minor": 5
}
